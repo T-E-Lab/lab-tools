{
 "cells": [
  {
   "cell_type": "markdown",
   "metadata": {},
   "source": [
    "# Notebook to rename oif files"
   ]
  },
  {
   "cell_type": "markdown",
   "metadata": {},
   "source": [
    "## Imports"
   ]
  },
  {
   "cell_type": "code",
   "execution_count": 42,
   "metadata": {},
   "outputs": [],
   "source": [
    "import os\n",
    "from pathlib import Path\n",
    "import tkinter as tk\n",
    "from tkinter import filedialog, simpledialog\n",
    "from showinfm import show_in_file_manager"
   ]
  },
  {
   "cell_type": "markdown",
   "metadata": {},
   "source": [
    "## Testing"
   ]
  },
  {
   "attachments": {},
   "cell_type": "markdown",
   "metadata": {},
   "source": [
    ".oif files are stored with an acompanying folder of the same name with .files appended. The file stores metadata while the folder stores the raw image data.  \n",
    "When renaming an .oif file and .oif.files folder, there is metadata in the file that needs to be updated to refer to the new folder name "
   ]
  },
  {
   "cell_type": "code",
   "execution_count": 43,
   "metadata": {},
   "outputs": [],
   "source": [
    "def select_file():\n",
    "    root = tk.Tk()\n",
    "    root.withdraw()\n",
    "    root.attributes(\"-topmost\", 1)\n",
    "    file_nm = filedialog.askopenfilename(title=\"Select files\")\n",
    "    if file_nm == \"\":\n",
    "        return None\n",
    "    else:\n",
    "        return Path(file_nm)"
   ]
  },
  {
   "cell_type": "code",
   "execution_count": 44,
   "metadata": {},
   "outputs": [],
   "source": [
    "def get_new_name(old_name):\n",
    "    root = tk.Tk()\n",
    "    root.withdraw()\n",
    "    root.attributes(\"-topmost\", 1)\n",
    "    pad = \" \" * 50\n",
    "    prompt_text = \"Enter new name of .oif file\"\n",
    "    new_name = simpledialog.askstring(\"Input\", pad+prompt_text+pad, initialvalue=old_name)\n",
    "    return new_name"
   ]
  },
  {
   "cell_type": "code",
   "execution_count": 45,
   "metadata": {},
   "outputs": [],
   "source": [
    "def rename_oif_file(old_oif_path, new_name):\n",
    "    # Set variables\n",
    "    old_oif_files_path = old_oif_path.with_suffix(\".oif.files\")\n",
    "\n",
    "    new_oif_path = old_oif_path.with_name(new_name).with_suffix(\".oif\")\n",
    "    new_oif_files_path = old_oif_files_path.with_name(new_name).with_suffix(\".oif.files\")\n",
    "\n",
    "    old_name = old_oif_path.stem\n",
    "\n",
    "    # Check if path to file exists\n",
    "    if not (os.path.exists(old_oif_path) or os.path.exists(old_oif_files_path)):\n",
    "        if not os.path.exists(old_oif_path) and os.path.exists(old_oif_files_path):\n",
    "            error_text = f\".oif path does not exist:\\n{old_oif_path}\"\n",
    "        elif os.path.exists(old_oif_path) and not os.path.exists(old_oif_files_path):\n",
    "            error_text = f\".oif.files path does not exist:\\n{old_oif_files_path}\"\n",
    "        else:\n",
    "            error_text = f\".oif and .oif.files paths do not exist:\\n{old_oif_path}\\n{old_oif_files_path}\"\n",
    "        raise RuntimeError(error_text)\n",
    "\n",
    "    # Check if new name is valid\n",
    "    if (os.path.exists(new_oif_path) or\n",
    "        os.path.exists(new_oif_files_path)):\n",
    "        raise RuntimeError(\"\")\n",
    "\n",
    "    ## update .oif metadata\n",
    "    # Read file\n",
    "    with open(old_oif_path, \"r\", encoding=\"utf16\") as oif:\n",
    "        data = oif.readlines()\n",
    "    # Edit data\n",
    "    for index, line in enumerate(data):\n",
    "        if old_name in line:\n",
    "            data[index] = line.replace(old_name, new_name)\n",
    "    # Write data to file\n",
    "    with open(old_oif_path, \"w\", encoding=\"utf16\") as oif:\n",
    "        oif.writelines(data)\n",
    "\n",
    "    ## Rename .oif.files\n",
    "    os.rename(old_oif_path, new_oif_path)\n",
    "    os.rename(old_oif_files_path, new_oif_files_path)\n",
    "\n"
   ]
  },
  {
   "cell_type": "code",
   "execution_count": 46,
   "metadata": {},
   "outputs": [],
   "source": [
    "# Test file\n",
    "# TEST_FILE = Path(\"C:/Users/ahshenas/Desktop/rename oif test/20230315_HD9xKaiR1D-crispr_test_name.oif\")\n",
    "def main():\n",
    "    file_nm = select_file()\n",
    "    if file_nm is None:\n",
    "        print(\"Canceled file selection\")\n",
    "        return\n",
    "    new_name = get_new_name(file_nm.stem)\n",
    "    if new_name is None:\n",
    "        print(\"Canceled new name selection\")\n",
    "        return\n",
    "    \n",
    "    rename_oif_file(file_nm, new_name)\n",
    "\n",
    "    show_in_file_manager(str(file_nm.parent))"
   ]
  },
  {
   "cell_type": "code",
   "execution_count": 47,
   "metadata": {},
   "outputs": [],
   "source": [
    "main()"
   ]
  }
 ],
 "metadata": {
  "kernelspec": {
   "display_name": "glupuff",
   "language": "python",
   "name": "python3"
  },
  "language_info": {
   "codemirror_mode": {
    "name": "ipython",
    "version": 3
   },
   "file_extension": ".py",
   "mimetype": "text/x-python",
   "name": "python",
   "nbconvert_exporter": "python",
   "pygments_lexer": "ipython3",
   "version": "3.8.15"
  },
  "orig_nbformat": 4,
  "vscode": {
   "interpreter": {
    "hash": "25e045403bb4b931aa83e2688f506c95d8af9ef3f8039286a36344194d10efc1"
   }
  }
 },
 "nbformat": 4,
 "nbformat_minor": 2
}
